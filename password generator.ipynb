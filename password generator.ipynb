{
 "cells": [
  {
   "cell_type": "markdown",
   "id": "3cc4476d",
   "metadata": {},
   "source": [
    "# Task:2 Password Generator"
   ]
  },
  {
   "cell_type": "code",
   "execution_count": null,
   "id": "700e7197",
   "metadata": {},
   "outputs": [],
   "source": [
    "from tkinter import * \n",
    "import string\n",
    "import random\n",
    "\n",
    "\n",
    "def generator():\n",
    "    small_alphabets = string.ascii_lowercase\n",
    "    capital_alphabets = string.ascii_uppercase\n",
    "    numbers = string.digits\n",
    "    specia_characters = string.punctuation\n",
    "    \n",
    "    all_ = small_alphabets+capital_alphabets+numbers+specia_characters\n",
    "    password_length=int(length_Box.get())\n",
    "    \n",
    "    if choice.get()==1:\n",
    "        password = ''.join(random.sample(small_alphabets,password_length))\n",
    "    \n",
    "    elif choice.get()==2:\n",
    "        password = ''.join(random.sample(small_alphabets + capital_alphabets, password_length))\n",
    "        \n",
    "    elif choice.get()==3:\n",
    "        password = ''.join(random.sample(all_,password_length))\n",
    "        \n",
    "        \n",
    "    passwordField.delete(0,END)\n",
    "    passwordField.insert(0,password)\n",
    "    \n",
    "\n",
    "\n",
    "def reset():\n",
    "    length_Box.delete(0,END)\n",
    "    passwordField.delete(0,END)\n",
    "    \n",
    "root = Tk()\n",
    "root.config(bg='grey')\n",
    "choice = IntVar()\n",
    "Font = ('arial',12,'bold')\n",
    "\n",
    "\n",
    "passwordLabel = Label(root,text='Password Generator', font=('times new roman',28,'bold'),bg='grey',fg='white')\n",
    "passwordLabel.grid(pady=10)\n",
    "\n",
    "weakradioButton = Radiobutton(root,text='Weak',value=1,variable= choice,font=Font)\n",
    "weakradioButton.grid(pady=7)\n",
    "\n",
    "mediumradioButton = Radiobutton(root,text='Medium',value=2,variable= choice,font=Font)\n",
    "mediumradioButton.grid(pady=7)\n",
    "\n",
    "StrongradioButton = Radiobutton(root,text='Strong',value=3,variable= choice,font=Font)\n",
    "StrongradioButton.grid(pady=7)\n",
    "\n",
    "lengthLabel = Label(root,text='Password Length', font=Font,bg='grey',fg='white')\n",
    "lengthLabel.grid(pady=7)\n",
    "\n",
    "length_Box = Spinbox(root,from_=5,to=18,width=5,font=Font)\n",
    "length_Box.grid(pady=7)\n",
    "\n",
    "generateButton = Button(root,text='Password Generate',command=generator)\n",
    "generateButton.grid()\n",
    "\n",
    "passwordField = Entry(root,width=26,bd=2,font=Font)\n",
    "passwordField.grid(pady=7)\n",
    "\n",
    "resetButton = Button(root,text='Reset',command=reset)\n",
    "resetButton.grid(pady=7)\n",
    "\n",
    "root.mainloop()"
   ]
  }
 ],
 "metadata": {
  "kernelspec": {
   "display_name": "Python 3 (ipykernel)",
   "language": "python",
   "name": "python3"
  },
  "language_info": {
   "codemirror_mode": {
    "name": "ipython",
    "version": 3
   },
   "file_extension": ".py",
   "mimetype": "text/x-python",
   "name": "python",
   "nbconvert_exporter": "python",
   "pygments_lexer": "ipython3",
   "version": "3.11.4"
  }
 },
 "nbformat": 4,
 "nbformat_minor": 5
}
