{
 "cells": [
  {
   "cell_type": "markdown",
   "id": "e1e418f7",
   "metadata": {},
   "source": [
    "# task 1 : calculator"
   ]
  },
  {
   "cell_type": "code",
   "execution_count": null,
   "id": "98af1a7c",
   "metadata": {},
   "outputs": [],
   "source": [
    "import tkinter as tk\n",
    "\n",
    "root = tk.Tk()\n",
    "root.title(\"Simple Calculator\")\n",
    "\n",
    "frame = tk.Frame(root)\n",
    "frame.pack(padx=20,pady=20)\n",
    "\n",
    "for i in range(10):\n",
    "    frame.rowconfigure(i,pad=20)\n",
    "    \n",
    "def click(value):\n",
    "    entry.insert(tk.END,value)\n",
    "def clear():\n",
    "    entry.delete(0,tk.END)\n",
    "def calculate():\n",
    "    Ans = eval(entry.get())\n",
    "    entry.delete(0,tk.END)\n",
    "    entry.insert(tk.END,str(Ans))\n",
    "    \n",
    "entry = tk.Entry(frame,width=40)\n",
    "entry.grid(row=0,column=0,columnspan=4)\n",
    "\n",
    "buttons = [\n",
    "           (\"7\",1,0),(\"8\",1,1),(\"9\",1,2),(\"/\",1,3),\n",
    "           (\"4\",2,0),(\"5\",2,1),(\"6\",2,2),(\"*\",2,3),\n",
    "           (\"1\",3,0),(\"2\",3,1),(\"3\",3,2),(\"-\",3,3),\n",
    "           (\"0\",4,0),(\"00\",4,1),(\".\",4,2),(\"+\",4,3)\n",
    "          ]\n",
    "    \n",
    "\n",
    "for text,row,column in buttons:\n",
    "    button = tk.Button(frame,text=text,padx=25,pady=20,command=lambda t=text:click(t))\n",
    "    button.grid(row=row,column=column)\n",
    "    \n",
    "clear_display = tk.Button(frame,text=\"C\",padx=25,pady=20,command=clear)\n",
    "clear_display .grid(row=6,column=4)\n",
    "\n",
    "equal_button = tk.Button(frame,text=\"=\",padx=25,pady=20,command=calculate)\n",
    "equal_button.grid(row=6,column=4)\n",
    "\n",
    "root.mainloop()"
   ]
  }
 ],
 "metadata": {
  "kernelspec": {
   "display_name": "Python 3 (ipykernel)",
   "language": "python",
   "name": "python3"
  },
  "language_info": {
   "codemirror_mode": {
    "name": "ipython",
    "version": 3
   },
   "file_extension": ".py",
   "mimetype": "text/x-python",
   "name": "python",
   "nbconvert_exporter": "python",
   "pygments_lexer": "ipython3",
   "version": "3.11.4"
  }
 },
 "nbformat": 4,
 "nbformat_minor": 5
}
